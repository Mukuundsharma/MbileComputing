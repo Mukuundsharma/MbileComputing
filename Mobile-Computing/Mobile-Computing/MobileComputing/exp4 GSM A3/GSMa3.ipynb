{
  "nbformat": 4,
  "nbformat_minor": 0,
  "metadata": {
    "colab": {
      "provenance": []
    },
    "kernelspec": {
      "name": "python3",
      "display_name": "Python 3"
    },
    "language_info": {
      "name": "python"
    }
  },
  "cells": [
    {
      "cell_type": "code",
      "execution_count": 2,
      "metadata": {
        "colab": {
          "base_uri": "https://localhost:8080/"
        },
        "id": "n9p26nPvBjEg",
        "outputId": "b730ab34-7f1c-4871-d2c9-4babaa11e1fd"
      },
      "outputs": [
        {
          "output_type": "stream",
          "name": "stdout",
          "text": [
            "128 Bit Key =  11011010000001110011101111000101010101010001110101111011010111000000011010110000110000000101010010111101000101110110100010110100\n",
            "128 Random Bits Generated =  10101010100001001010000010011011011101011100110001110000000011011010101000111000010000101100000100111111000000110010000001001111\n",
            "RES/SRES =  01111110110011100101101001100001\n"
          ]
        }
      ],
      "source": [
        "\n",
        "import random\n",
        "\n",
        "k=random.getrandbits(128)\n",
        "m=random.getrandbits(128)\n",
        "kb=bin(k)[2:]\n",
        "mb=bin(m)[2:]\n",
        "kbl=kb[0:64]\n",
        "kbr=kb[64:]\n",
        "mbl=mb[0:64]\n",
        "mbr=mb[64:]\n",
        "a1=int(kbl,2)^int(mbr,2)\n",
        "a2=int(kbr,2)^int(mbl,2)\n",
        "a3=a1^a2\n",
        "a4=bin(a3)[2:].zfill(64)\n",
        "a5=a4[0:32]\n",
        "a6=a4[32:]\n",
        "a7=int(a5,2)^int(a6,2)\n",
        "print(\"128 Bit Key = \",kb)\n",
        "print(\"128 Random Bits Generated = \",mb)\n",
        "print(\"RES/SRES = \",bin(a7)[2:].zfill(len(a5)))"
      ]
    }
  ]
}